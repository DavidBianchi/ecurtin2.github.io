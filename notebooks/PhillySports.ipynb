{
 "cells": [
  {
   "cell_type": "code",
   "execution_count": 58,
   "metadata": {
    "collapsed": false
   },
   "outputs": [],
   "source": [
    "import math\n",
    "class PhiladelphiaSportsTeam(object):\n",
    "    \"\"\"Black magic sports team analysis class\"\"\"    \n",
    "    def __init__(self, sport, year):\n",
    "        self.sport = sport\n",
    "        self.obnoxiousfans = True\n",
    "        self.goodplayers = False\n",
    "        self.goodcoach = False\n",
    "        self.winrate = 0.5    \n",
    "    def calc_championship_odds(self):\n",
    "        if self.obnoxiousfans and self.goodcoach and self.goodplayers:\n",
    "            self.winrate = 0.75\n",
    "        else:\n",
    "            self.winrate = 0                   \n",
    "        self.win_championship_odds = 1.0 - math.exp(-self.winrate * 10**(-2))\n",
    "        print self.win_championship_odds\n",
    "        \n",
    "    def set_goodcoach(self, goodcoach):\n",
    "        self._goodcoach = goodcoach\n",
    "        if self.goodcoach:\n",
    "            self.goodplayers = False\n",
    "    def get_goodcoach(self):\n",
    "        return self._goodcoach      \n",
    "    goodcoach = property(get_goodcoach, set_goodcoach)\n",
    "    \n",
    "    def set_goodplayers(self, goodplayers):\n",
    "        self._goodplayers = goodplayers\n",
    "        if self.goodplayers:\n",
    "            self.goodcoach = False\n",
    "    def get_goodplayers(self):\n",
    "        return self._goodplayers      \n",
    "    goodplayers = property(get_goodplayers, set_goodplayers)          "
   ]
  }
 ],
 "metadata": {
  "kernelspec": {
   "display_name": "Python [Root]",
   "language": "python",
   "name": "Python [Root]"
  },
  "language_info": {
   "codemirror_mode": {
    "name": "ipython",
    "version": 2
   },
   "file_extension": ".py",
   "mimetype": "text/x-python",
   "name": "python",
   "nbconvert_exporter": "python",
   "pygments_lexer": "ipython2",
   "version": "2.7.12"
  }
 },
 "nbformat": 4,
 "nbformat_minor": 0
}
